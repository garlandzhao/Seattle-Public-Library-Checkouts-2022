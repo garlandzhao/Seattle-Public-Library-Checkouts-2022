{
 "cells": [
  {
   "cell_type": "markdown",
   "id": "fb9c5915",
   "metadata": {},
   "source": [
    "# Seattle Public Library Checkouts 2022"
   ]
  },
  {
   "cell_type": "markdown",
   "id": "460de6b1",
   "metadata": {},
   "source": [
    "This project analyzes and visualizes the Checkouts by Title dataset. The dataset can be found in the link below. The dataset has been queried to only contain information from 2022.\n",
    "\n",
    "Dataset: https://data.seattle.gov/Community/Checkouts-by-Title/tmmm-ytt6"
   ]
  },
  {
   "cell_type": "markdown",
   "id": "513ebeca",
   "metadata": {},
   "source": [
    "## Import Libraries"
   ]
  },
  {
   "cell_type": "code",
   "execution_count": 1,
   "id": "643ccec4",
   "metadata": {},
   "outputs": [],
   "source": [
    "import numpy as np\n",
    "import pandas as pd\n",
    "import matplotlib.pyplot as plt\n",
    "import matplotlib.ticker as ticker"
   ]
  },
  {
   "cell_type": "markdown",
   "id": "f7195966",
   "metadata": {},
   "source": [
    "## Import Dataset"
   ]
  },
  {
   "cell_type": "code",
   "execution_count": 2,
   "id": "aac66847",
   "metadata": {},
   "outputs": [
    {
     "data": {
      "text/html": [
       "<div>\n",
       "<style scoped>\n",
       "    .dataframe tbody tr th:only-of-type {\n",
       "        vertical-align: middle;\n",
       "    }\n",
       "\n",
       "    .dataframe tbody tr th {\n",
       "        vertical-align: top;\n",
       "    }\n",
       "\n",
       "    .dataframe thead th {\n",
       "        text-align: right;\n",
       "    }\n",
       "</style>\n",
       "<table border=\"1\" class=\"dataframe\">\n",
       "  <thead>\n",
       "    <tr style=\"text-align: right;\">\n",
       "      <th></th>\n",
       "      <th>UsageClass</th>\n",
       "      <th>CheckoutType</th>\n",
       "      <th>MaterialType</th>\n",
       "      <th>CheckoutYear</th>\n",
       "      <th>CheckoutMonth</th>\n",
       "      <th>Checkouts</th>\n",
       "      <th>Title</th>\n",
       "      <th>ISBN</th>\n",
       "      <th>Creator</th>\n",
       "      <th>Subjects</th>\n",
       "      <th>Publisher</th>\n",
       "      <th>PublicationYear</th>\n",
       "    </tr>\n",
       "  </thead>\n",
       "  <tbody>\n",
       "    <tr>\n",
       "      <th>0</th>\n",
       "      <td>Physical</td>\n",
       "      <td>Horizon</td>\n",
       "      <td>BOOK</td>\n",
       "      <td>2022</td>\n",
       "      <td>9</td>\n",
       "      <td>6</td>\n",
       "      <td>Great day for up! Pictures by Quentin Blake.</td>\n",
       "      <td>0394829131, 0394929136</td>\n",
       "      <td>Seuss, Dr.</td>\n",
       "      <td>Stories in rhyme</td>\n",
       "      <td>Beginner Books,</td>\n",
       "      <td>[1974]</td>\n",
       "    </tr>\n",
       "    <tr>\n",
       "      <th>1</th>\n",
       "      <td>Digital</td>\n",
       "      <td>OverDrive</td>\n",
       "      <td>AUDIOBOOK</td>\n",
       "      <td>2022</td>\n",
       "      <td>9</td>\n",
       "      <td>1</td>\n",
       "      <td>The Scientist and the Spy: A True Story of Chi...</td>\n",
       "      <td>9780593166819</td>\n",
       "      <td>Mara Hvistendahl</td>\n",
       "      <td>Business, Politics, True Crime, Nonfiction</td>\n",
       "      <td>Books on Tape</td>\n",
       "      <td>2020</td>\n",
       "    </tr>\n",
       "    <tr>\n",
       "      <th>2</th>\n",
       "      <td>Digital</td>\n",
       "      <td>OverDrive</td>\n",
       "      <td>EBOOK</td>\n",
       "      <td>2022</td>\n",
       "      <td>9</td>\n",
       "      <td>3</td>\n",
       "      <td>The Flame and the Flower</td>\n",
       "      <td>9780061743696</td>\n",
       "      <td>Kathleen E. Woodiwiss</td>\n",
       "      <td>Fiction, Romance, Historical Fiction</td>\n",
       "      <td>HarperCollins Publishers Inc.</td>\n",
       "      <td>2006</td>\n",
       "    </tr>\n",
       "    <tr>\n",
       "      <th>3</th>\n",
       "      <td>Digital</td>\n",
       "      <td>OverDrive</td>\n",
       "      <td>EBOOK</td>\n",
       "      <td>2022</td>\n",
       "      <td>9</td>\n",
       "      <td>8</td>\n",
       "      <td>Fifty Words for Rain: A Novel</td>\n",
       "      <td>9781524746377</td>\n",
       "      <td>Asha Lemmie</td>\n",
       "      <td>Fiction, Literature, Historical Fiction</td>\n",
       "      <td>Penguin Group (USA), Inc.</td>\n",
       "      <td>2020</td>\n",
       "    </tr>\n",
       "    <tr>\n",
       "      <th>4</th>\n",
       "      <td>Physical</td>\n",
       "      <td>Horizon</td>\n",
       "      <td>BOOK</td>\n",
       "      <td>2022</td>\n",
       "      <td>9</td>\n",
       "      <td>5</td>\n",
       "      <td>How to code a rollercoaster / by Josh Funk ; i...</td>\n",
       "      <td>0425292037, 9780425292037</td>\n",
       "      <td>Funk, Josh</td>\n",
       "      <td>Amusement parks Juvenile fiction, Computer pro...</td>\n",
       "      <td>Viking,</td>\n",
       "      <td>[2019]</td>\n",
       "    </tr>\n",
       "  </tbody>\n",
       "</table>\n",
       "</div>"
      ],
      "text/plain": [
       "  UsageClass CheckoutType MaterialType  CheckoutYear  CheckoutMonth  \\\n",
       "0   Physical      Horizon         BOOK          2022              9   \n",
       "1    Digital    OverDrive    AUDIOBOOK          2022              9   \n",
       "2    Digital    OverDrive        EBOOK          2022              9   \n",
       "3    Digital    OverDrive        EBOOK          2022              9   \n",
       "4   Physical      Horizon         BOOK          2022              9   \n",
       "\n",
       "   Checkouts                                              Title  \\\n",
       "0          6       Great day for up! Pictures by Quentin Blake.   \n",
       "1          1  The Scientist and the Spy: A True Story of Chi...   \n",
       "2          3                           The Flame and the Flower   \n",
       "3          8                      Fifty Words for Rain: A Novel   \n",
       "4          5  How to code a rollercoaster / by Josh Funk ; i...   \n",
       "\n",
       "                        ISBN                Creator  \\\n",
       "0     0394829131, 0394929136             Seuss, Dr.   \n",
       "1              9780593166819       Mara Hvistendahl   \n",
       "2              9780061743696  Kathleen E. Woodiwiss   \n",
       "3              9781524746377            Asha Lemmie   \n",
       "4  0425292037, 9780425292037             Funk, Josh   \n",
       "\n",
       "                                            Subjects  \\\n",
       "0                                   Stories in rhyme   \n",
       "1         Business, Politics, True Crime, Nonfiction   \n",
       "2               Fiction, Romance, Historical Fiction   \n",
       "3            Fiction, Literature, Historical Fiction   \n",
       "4  Amusement parks Juvenile fiction, Computer pro...   \n",
       "\n",
       "                       Publisher PublicationYear  \n",
       "0                Beginner Books,          [1974]  \n",
       "1                  Books on Tape            2020  \n",
       "2  HarperCollins Publishers Inc.            2006  \n",
       "3      Penguin Group (USA), Inc.            2020  \n",
       "4                        Viking,          [2019]  "
      ]
     },
     "execution_count": 2,
     "metadata": {},
     "output_type": "execute_result"
    }
   ],
   "source": [
    "df = pd.read_csv(\"Checkouts_by_Title_2022.csv\", dtype = {\"ISBN\" : \"str\"})\n",
    "df.head()"
   ]
  },
  {
   "cell_type": "markdown",
   "id": "cf3bb866",
   "metadata": {},
   "source": [
    "## Visualizations"
   ]
  },
  {
   "cell_type": "markdown",
   "id": "79700344",
   "metadata": {},
   "source": [
    "### UsageClass"
   ]
  },
  {
   "cell_type": "code",
   "execution_count": 3,
   "id": "cd4031d7",
   "metadata": {},
   "outputs": [],
   "source": [
    "#Create a new dataframe\n",
    "usuage_df = df[[\"UsageClass\",\"Checkouts\"]]"
   ]
  },
  {
   "cell_type": "code",
   "execution_count": 4,
   "id": "9869d38c",
   "metadata": {},
   "outputs": [
    {
     "data": {
      "text/plain": [
       "UsageClass\n",
       "Digital     4692195\n",
       "Physical    3710181\n",
       "Name: Checkouts, dtype: int64"
      ]
     },
     "execution_count": 4,
     "metadata": {},
     "output_type": "execute_result"
    }
   ],
   "source": [
    "#Group checkouts by the usage class\n",
    "usuage_df.groupby(\"UsageClass\")[\"Checkouts\"].sum()"
   ]
  },
  {
   "cell_type": "code",
   "execution_count": 5,
   "id": "3aa0b50f",
   "metadata": {},
   "outputs": [
    {
     "data": {
      "image/png": "[encoded data removed]",
      "text/plain": [
       "<Figure size 432x288 with 1 Axes>"
      ]
     },
     "metadata": {},
     "output_type": "display_data"
    }
   ],
   "source": [
    "#Visualize the results\n",
    "usuage_df.groupby(\"UsageClass\")[\"Checkouts\"].sum().plot.pie(autopct = \"%1.2f%%\")\n",
    "plt.title(\"UsageClass Distribution\")\n",
    "plt.ylabel(\"\");"
   ]
  },
  {
   "cell_type": "markdown",
   "id": "e374fcec",
   "metadata": {},
   "source": [
    "### MaterialType"
   ]
  },
  {
   "cell_type": "code",
   "execution_count": 6,
   "id": "63e1099f",
   "metadata": {},
   "outputs": [],
   "source": [
    "#Create a smaller dataframe\n",
    "material_type_df = df[[\"MaterialType\",\"Checkouts\"]]"
   ]
  },
  {
   "cell_type": "code",
   "execution_count": 7,
   "id": "a1d21a0d",
   "metadata": {},
   "outputs": [],
   "source": [
    "#Group the dataframe by checkouts and sort the values\n",
    "materials_grouped = material_type_df.groupby(\"MaterialType\")[\"Checkouts\"].sum()\n",
    "materials_grouped = materials_grouped.sort_values(ascending = False)"
   ]
  },
  {
   "cell_type": "code",
   "execution_count": 8,
   "id": "2e0530a8",
   "metadata": {},
   "outputs": [
    {
     "data": {
      "text/plain": [
       "MaterialType\n",
       "BOOK         2877911\n",
       "EBOOK        2736499\n",
       "AUDIOBOOK    1954869\n",
       "VIDEODISC     573191\n",
       "SOUNDDISC     185864\n",
       "Name: Checkouts, dtype: int64"
      ]
     },
     "execution_count": 8,
     "metadata": {},
     "output_type": "execute_result"
    }
   ],
   "source": [
    "#Display the top 5 values\n",
    "materials_grouped[0:5]"
   ]
  },
  {
   "cell_type": "code",
   "execution_count": 9,
   "id": "5c6950a4",
   "metadata": {
    "scrolled": true
   },
   "outputs": [
    {
     "data": {
      "text/plain": [
       "MaterialType\n",
       "SOUNDDISC                                     185864\n",
       "MIXED                                          30402\n",
       "REGPRINT                                       25723\n",
       "MUSIC                                           4249\n",
       "LARGEPRINT                                      3787\n",
       "ER, SOUNDREC                                    1784\n",
       "SOUNDDISC, VIDEODISC                            1583\n",
       "CR                                              1080\n",
       "ER                                               929\n",
       "SOUNDREC                                         840\n",
       "VIDEO                                            827\n",
       "MAP                                              521\n",
       "ATLAS                                            499\n",
       "VISUAL                                           488\n",
       "ER, VIDEODISC                                    403\n",
       "ER, SOUNDDISC                                    317\n",
       "UNSPECIFIED                                      316\n",
       "REGPRINT, VIDEOREC                                37\n",
       "ER, SOUNDDISC, SOUNDREC                           34\n",
       "VIDEOCASS                                         33\n",
       "MUSICSNDREC                                       27\n",
       "ER, NONPROJGRAPH                                  27\n",
       "REGPRINT, SOUNDDISC                               27\n",
       "NOTATEDMUSIC                                      19\n",
       "VIDEOREC                                          18\n",
       "SOUNDDISC, SOUNDREC                               11\n",
       "MICROFORM                                         11\n",
       "SOUNDCASS                                          9\n",
       "FLASHCARD, SOUNDDISC                               6\n",
       "BOOK, ER                                           4\n",
       "ER, PRINT                                          4\n",
       "VIDEOCART                                          4\n",
       "SOUNDCASS, SOUNDDISC                               3\n",
       "ER, MAP                                            3\n",
       "PRINT                                              2\n",
       "FLASHCARD                                          2\n",
       "ER, REGPRINT                                       2\n",
       "KIT                                                2\n",
       "REMOTESEN                                          1\n",
       "COMPFILE                                           1\n",
       "PICTURE                                            1\n",
       "MAP, VIEW                                          1\n",
       "GLOBE                                              1\n",
       "SOUNDDISC, VIDEOCASS                               1\n",
       "SOUNDCASS, SOUNDDISC, VIDEOCASS, VIDEODISC         1\n",
       "SLIDE, SOUNDCASS                                   1\n",
       "SLIDE                                              1\n",
       "Name: Checkouts, dtype: int64"
      ]
     },
     "execution_count": 9,
     "metadata": {},
     "output_type": "execute_result"
    }
   ],
   "source": [
    "#Display the remaining values within the dataframe\n",
    "materials_grouped[4::].sort_values(ascending = False)"
   ]
  },
  {
   "cell_type": "code",
   "execution_count": 10,
   "id": "055e6d23",
   "metadata": {},
   "outputs": [],
   "source": [
    "#Sum up all the checkouts below video disc and create a new index value\n",
    "materials_grouped[\"OTHER\"] = materials_grouped[4::].sum()"
   ]
  },
  {
   "cell_type": "code",
   "execution_count": 11,
   "id": "091c1949",
   "metadata": {},
   "outputs": [
    {
     "data": {
      "text/plain": [
       "MaterialType\n",
       "BOOK         2877911\n",
       "EBOOK        2736499\n",
       "AUDIOBOOK    1954869\n",
       "VIDEODISC     573191\n",
       "OTHER         259906\n",
       "Name: Checkouts, dtype: int64"
      ]
     },
     "execution_count": 11,
     "metadata": {},
     "output_type": "execute_result"
    }
   ],
   "source": [
    "#Display the top 5 values\n",
    "materials_grouped.sort_values(ascending = False)[0:5]"
   ]
  },
  {
   "cell_type": "code",
   "execution_count": 12,
   "id": "b8aff790",
   "metadata": {},
   "outputs": [
    {
     "data": {
      "image/png": "[encoded data removed]",
      "text/plain": [
       "<Figure size 864x360 with 1 Axes>"
      ]
     },
     "metadata": {},
     "output_type": "display_data"
    }
   ],
   "source": [
    "#Visualize the results\n",
    "plt.figure(figsize = (12,5))\n",
    "materials_grouped.sort_values(ascending = False)[0:5].plot.pie(autopct = \"%1.2f%%\")\n",
    "plt.title(\"MaterialType Distribution\")\n",
    "plt.ylabel(\"\");"
   ]
  },
  {
   "cell_type": "markdown",
   "id": "b6671de0",
   "metadata": {},
   "source": [
    "### Subjects"
   ]
  },
  {
   "cell_type": "code",
   "execution_count": 13,
   "id": "9c9df901",
   "metadata": {},
   "outputs": [
    {
     "data": {
      "text/html": [
       "<div>\n",
       "<style scoped>\n",
       "    .dataframe tbody tr th:only-of-type {\n",
       "        vertical-align: middle;\n",
       "    }\n",
       "\n",
       "    .dataframe tbody tr th {\n",
       "        vertical-align: top;\n",
       "    }\n",
       "\n",
       "    .dataframe thead th {\n",
       "        text-align: right;\n",
       "    }\n",
       "</style>\n",
       "<table border=\"1\" class=\"dataframe\">\n",
       "  <thead>\n",
       "    <tr style=\"text-align: right;\">\n",
       "      <th></th>\n",
       "      <th>Checkouts</th>\n",
       "      <th>Subjects</th>\n",
       "    </tr>\n",
       "  </thead>\n",
       "  <tbody>\n",
       "    <tr>\n",
       "      <th>0</th>\n",
       "      <td>6</td>\n",
       "      <td>Stories in rhyme</td>\n",
       "    </tr>\n",
       "    <tr>\n",
       "      <th>1</th>\n",
       "      <td>1</td>\n",
       "      <td>Business, Politics, True Crime, Nonfiction</td>\n",
       "    </tr>\n",
       "    <tr>\n",
       "      <th>2</th>\n",
       "      <td>3</td>\n",
       "      <td>Fiction, Romance, Historical Fiction</td>\n",
       "    </tr>\n",
       "    <tr>\n",
       "      <th>3</th>\n",
       "      <td>8</td>\n",
       "      <td>Fiction, Literature, Historical Fiction</td>\n",
       "    </tr>\n",
       "    <tr>\n",
       "      <th>4</th>\n",
       "      <td>5</td>\n",
       "      <td>Amusement parks Juvenile fiction, Computer pro...</td>\n",
       "    </tr>\n",
       "  </tbody>\n",
       "</table>\n",
       "</div>"
      ],
      "text/plain": [
       "   Checkouts                                           Subjects\n",
       "0          6                                   Stories in rhyme\n",
       "1          1         Business, Politics, True Crime, Nonfiction\n",
       "2          3               Fiction, Romance, Historical Fiction\n",
       "3          8            Fiction, Literature, Historical Fiction\n",
       "4          5  Amusement parks Juvenile fiction, Computer pro..."
      ]
     },
     "execution_count": 13,
     "metadata": {},
     "output_type": "execute_result"
    }
   ],
   "source": [
    "#Create a smaller dataframe\n",
    "subjects_df = df[[\"Checkouts\",\"Subjects\"]]\n",
    "subjects_df.head()"
   ]
  },
  {
   "cell_type": "code",
   "execution_count": 14,
   "id": "cd543456",
   "metadata": {},
   "outputs": [
    {
     "data": {
      "text/plain": [
       "Checkouts        0\n",
       "Subjects     13496\n",
       "dtype: int64"
      ]
     },
     "execution_count": 14,
     "metadata": {},
     "output_type": "execute_result"
    }
   ],
   "source": [
    "#Check for missing values\n",
    "subjects_df.isna().sum()"
   ]
  },
  {
   "cell_type": "code",
   "execution_count": 15,
   "id": "28372c7f",
   "metadata": {},
   "outputs": [
    {
     "data": {
      "text/plain": [
       "Checkouts    0\n",
       "Subjects     0\n",
       "dtype: int64"
      ]
     },
     "execution_count": 15,
     "metadata": {},
     "output_type": "execute_result"
    }
   ],
   "source": [
    "#Drop missing values\n",
    "subjects_df = subjects_df.dropna()\n",
    "subjects_df.isna().sum()"
   ]
  },
  {
   "cell_type": "code",
   "execution_count": 16,
   "id": "8b542262",
   "metadata": {},
   "outputs": [],
   "source": [
    "#Create a function to seperate and count each subject from the Subjects column\n",
    "#Multiply each subject by their number of checkouts\n",
    "subject_count = {}\n",
    "for i in range(len(subjects_df)):\n",
    "    subjects = subjects_df[\"Subjects\"].iloc[i].split(\",\")\n",
    "    checkout_value = int(subjects_df[\"Checkouts\"].iloc[i])\n",
    "    for j in range(len(subjects)):\n",
    "        subject = subjects[j].strip()\n",
    "        if subject not in subject_count:\n",
    "            subject_count.setdefault(subject, checkout_value)\n",
    "        else:\n",
    "            subject_count[subject] += checkout_value"
   ]
  },
  {
   "cell_type": "code",
   "execution_count": 17,
   "id": "addc4f22",
   "metadata": {},
   "outputs": [
    {
     "data": {
      "text/html": [
       "<div>\n",
       "<style scoped>\n",
       "    .dataframe tbody tr th:only-of-type {\n",
       "        vertical-align: middle;\n",
       "    }\n",
       "\n",
       "    .dataframe tbody tr th {\n",
       "        vertical-align: top;\n",
       "    }\n",
       "\n",
       "    .dataframe thead th {\n",
       "        text-align: right;\n",
       "    }\n",
       "</style>\n",
       "<table border=\"1\" class=\"dataframe\">\n",
       "  <thead>\n",
       "    <tr style=\"text-align: right;\">\n",
       "      <th></th>\n",
       "      <th>Subjects</th>\n",
       "      <th>Count</th>\n",
       "    </tr>\n",
       "  </thead>\n",
       "  <tbody>\n",
       "    <tr>\n",
       "      <th>5</th>\n",
       "      <td>Fiction</td>\n",
       "      <td>2585991</td>\n",
       "    </tr>\n",
       "    <tr>\n",
       "      <th>4</th>\n",
       "      <td>Nonfiction</td>\n",
       "      <td>1393472</td>\n",
       "    </tr>\n",
       "    <tr>\n",
       "      <th>8</th>\n",
       "      <td>Literature</td>\n",
       "      <td>1221087</td>\n",
       "    </tr>\n",
       "    <tr>\n",
       "      <th>6</th>\n",
       "      <td>Romance</td>\n",
       "      <td>681127</td>\n",
       "    </tr>\n",
       "    <tr>\n",
       "      <th>18</th>\n",
       "      <td>Thriller</td>\n",
       "      <td>656815</td>\n",
       "    </tr>\n",
       "    <tr>\n",
       "      <th>29</th>\n",
       "      <td>Mystery</td>\n",
       "      <td>620866</td>\n",
       "    </tr>\n",
       "    <tr>\n",
       "      <th>27</th>\n",
       "      <td>Fantasy</td>\n",
       "      <td>603038</td>\n",
       "    </tr>\n",
       "    <tr>\n",
       "      <th>7</th>\n",
       "      <td>Historical Fiction</td>\n",
       "      <td>527458</td>\n",
       "    </tr>\n",
       "    <tr>\n",
       "      <th>190</th>\n",
       "      <td>Video recordings for the hearing impaired</td>\n",
       "      <td>472557</td>\n",
       "    </tr>\n",
       "    <tr>\n",
       "      <th>15</th>\n",
       "      <td>Juvenile Fiction</td>\n",
       "      <td>440443</td>\n",
       "    </tr>\n",
       "  </tbody>\n",
       "</table>\n",
       "</div>"
      ],
      "text/plain": [
       "                                      Subjects    Count\n",
       "5                                      Fiction  2585991\n",
       "4                                   Nonfiction  1393472\n",
       "8                                   Literature  1221087\n",
       "6                                      Romance   681127\n",
       "18                                    Thriller   656815\n",
       "29                                     Mystery   620866\n",
       "27                                     Fantasy   603038\n",
       "7                           Historical Fiction   527458\n",
       "190  Video recordings for the hearing impaired   472557\n",
       "15                            Juvenile Fiction   440443"
      ]
     },
     "execution_count": 17,
     "metadata": {},
     "output_type": "execute_result"
    }
   ],
   "source": [
    "#Create a dataframe to help display the results\n",
    "subject_count_df = pd.DataFrame(subject_count.items(), columns = [\"Subjects\",\"Count\"])\n",
    "subject_count_df.sort_values(\"Count\", ascending = False).head(10)"
   ]
  },
  {
   "cell_type": "code",
   "execution_count": 18,
   "id": "9a09a560",
   "metadata": {},
   "outputs": [
    {
     "data": {
      "image/png": "[encoded data removed]",
      "text/plain": [
       "<Figure size 432x288 with 1 Axes>"
      ]
     },
     "metadata": {
      "needs_background": "light"
     },
     "output_type": "display_data"
    }
   ],
   "source": [
    "#Visualize the results\n",
    "subjects_plot = subject_count_df.sort_values(\"Count\").tail(10)\n",
    "subjects_plot.plot(x = \"Subjects\", y = \"Count\", kind = \"barh\")\n",
    "plt.title(\"Top 10 Most Common Subjects\")\n",
    "plt.gca().xaxis.set_major_formatter(ticker.StrMethodFormatter('{x:,.0f}'));"
   ]
  },
  {
   "cell_type": "markdown",
   "id": "2fccffd7",
   "metadata": {},
   "source": [
    "### Checkouts by Month"
   ]
  },
  {
   "cell_type": "code",
   "execution_count": 19,
   "id": "b20ec311",
   "metadata": {
    "scrolled": true
   },
   "outputs": [
    {
     "data": {
      "text/html": [
       "<div>\n",
       "<style scoped>\n",
       "    .dataframe tbody tr th:only-of-type {\n",
       "        vertical-align: middle;\n",
       "    }\n",
       "\n",
       "    .dataframe tbody tr th {\n",
       "        vertical-align: top;\n",
       "    }\n",
       "\n",
       "    .dataframe thead th {\n",
       "        text-align: right;\n",
       "    }\n",
       "</style>\n",
       "<table border=\"1\" class=\"dataframe\">\n",
       "  <thead>\n",
       "    <tr style=\"text-align: right;\">\n",
       "      <th></th>\n",
       "      <th>CheckoutMonth</th>\n",
       "      <th>Checkouts</th>\n",
       "    </tr>\n",
       "  </thead>\n",
       "  <tbody>\n",
       "    <tr>\n",
       "      <th>0</th>\n",
       "      <td>9</td>\n",
       "      <td>6</td>\n",
       "    </tr>\n",
       "    <tr>\n",
       "      <th>1</th>\n",
       "      <td>9</td>\n",
       "      <td>1</td>\n",
       "    </tr>\n",
       "    <tr>\n",
       "      <th>2</th>\n",
       "      <td>9</td>\n",
       "      <td>3</td>\n",
       "    </tr>\n",
       "    <tr>\n",
       "      <th>3</th>\n",
       "      <td>9</td>\n",
       "      <td>8</td>\n",
       "    </tr>\n",
       "    <tr>\n",
       "      <th>4</th>\n",
       "      <td>9</td>\n",
       "      <td>5</td>\n",
       "    </tr>\n",
       "  </tbody>\n",
       "</table>\n",
       "</div>"
      ],
      "text/plain": [
       "   CheckoutMonth  Checkouts\n",
       "0              9          6\n",
       "1              9          1\n",
       "2              9          3\n",
       "3              9          8\n",
       "4              9          5"
      ]
     },
     "execution_count": 19,
     "metadata": {},
     "output_type": "execute_result"
    }
   ],
   "source": [
    "#Create a smaller dataframe\n",
    "dates_df = df[[\"CheckoutMonth\", \"Checkouts\"]]\n",
    "dates_df.head()"
   ]
  },
  {
   "cell_type": "code",
   "execution_count": 20,
   "id": "425fecc8",
   "metadata": {},
   "outputs": [],
   "source": [
    "#Group the checkout values by month\n",
    "checkout_by_dates = dates_df.groupby([\"CheckoutMonth\"])[\"Checkouts\"].sum()"
   ]
  },
  {
   "cell_type": "code",
   "execution_count": 21,
   "id": "6d0026e3",
   "metadata": {},
   "outputs": [
    {
     "data": {
      "text/html": [
       "<div>\n",
       "<style scoped>\n",
       "    .dataframe tbody tr th:only-of-type {\n",
       "        vertical-align: middle;\n",
       "    }\n",
       "\n",
       "    .dataframe tbody tr th {\n",
       "        vertical-align: top;\n",
       "    }\n",
       "\n",
       "    .dataframe thead th {\n",
       "        text-align: right;\n",
       "    }\n",
       "</style>\n",
       "<table border=\"1\" class=\"dataframe\">\n",
       "  <thead>\n",
       "    <tr style=\"text-align: right;\">\n",
       "      <th></th>\n",
       "      <th>Checkouts</th>\n",
       "    </tr>\n",
       "    <tr>\n",
       "      <th>CheckoutMonth</th>\n",
       "      <th></th>\n",
       "    </tr>\n",
       "  </thead>\n",
       "  <tbody>\n",
       "    <tr>\n",
       "      <th>1</th>\n",
       "      <td>739681</td>\n",
       "    </tr>\n",
       "    <tr>\n",
       "      <th>2</th>\n",
       "      <td>637979</td>\n",
       "    </tr>\n",
       "    <tr>\n",
       "      <th>3</th>\n",
       "      <td>705330</td>\n",
       "    </tr>\n",
       "    <tr>\n",
       "      <th>4</th>\n",
       "      <td>644617</td>\n",
       "    </tr>\n",
       "    <tr>\n",
       "      <th>5</th>\n",
       "      <td>701259</td>\n",
       "    </tr>\n",
       "    <tr>\n",
       "      <th>6</th>\n",
       "      <td>707177</td>\n",
       "    </tr>\n",
       "    <tr>\n",
       "      <th>7</th>\n",
       "      <td>706206</td>\n",
       "    </tr>\n",
       "    <tr>\n",
       "      <th>8</th>\n",
       "      <td>744873</td>\n",
       "    </tr>\n",
       "    <tr>\n",
       "      <th>9</th>\n",
       "      <td>701731</td>\n",
       "    </tr>\n",
       "    <tr>\n",
       "      <th>10</th>\n",
       "      <td>713136</td>\n",
       "    </tr>\n",
       "    <tr>\n",
       "      <th>11</th>\n",
       "      <td>698118</td>\n",
       "    </tr>\n",
       "    <tr>\n",
       "      <th>12</th>\n",
       "      <td>702269</td>\n",
       "    </tr>\n",
       "  </tbody>\n",
       "</table>\n",
       "</div>"
      ],
      "text/plain": [
       "               Checkouts\n",
       "CheckoutMonth           \n",
       "1                 739681\n",
       "2                 637979\n",
       "3                 705330\n",
       "4                 644617\n",
       "5                 701259\n",
       "6                 707177\n",
       "7                 706206\n",
       "8                 744873\n",
       "9                 701731\n",
       "10                713136\n",
       "11                698118\n",
       "12                702269"
      ]
     },
     "execution_count": 21,
     "metadata": {},
     "output_type": "execute_result"
    }
   ],
   "source": [
    "#Create a new dataframe to house the results\n",
    "checkout_by_dates_df = pd.DataFrame(checkout_by_dates)\n",
    "checkout_by_dates_df"
   ]
  },
  {
   "cell_type": "code",
   "execution_count": 22,
   "id": "335ecab3",
   "metadata": {},
   "outputs": [
    {
     "data": {
      "image/png": "[encoded data removed]",
      "text/plain": [
       "<Figure size 864x360 with 1 Axes>"
      ]
     },
     "metadata": {
      "needs_background": "light"
     },
     "output_type": "display_data"
    }
   ],
   "source": [
    "#Visualize the results\n",
    "x = checkout_by_dates_df.index\n",
    "y = checkout_by_dates_df[\"Checkouts\"]\n",
    "\n",
    "plt.figure(figsize = (12,5))\n",
    "plt.ylim(620000,760000)\n",
    "plt.title(\"Total Checkouts by Month\")\n",
    "plt.xlabel(\"Month\")\n",
    "plt.ylabel(\"Checkouts\")\n",
    "plt.gca().yaxis.set_major_formatter(ticker.StrMethodFormatter('{x:,.0f}'))\n",
    "\n",
    "plt.plot(x,y);"
   ]
  },
  {
   "cell_type": "markdown",
   "id": "1066ab21",
   "metadata": {},
   "source": [
    "### Most Popular Products"
   ]
  },
  {
   "cell_type": "code",
   "execution_count": 23,
   "id": "611342a0",
   "metadata": {},
   "outputs": [],
   "source": [
    "#Create a smaller dataframe\n",
    "products_df = df[[\"Title\",\"Checkouts\"]]"
   ]
  },
  {
   "cell_type": "code",
   "execution_count": 24,
   "id": "4388d83e",
   "metadata": {},
   "outputs": [],
   "source": [
    "#Group the products by checkouts\n",
    "popular_products = products_df.groupby([\"Title\"])[\"Checkouts\"].sum()"
   ]
  },
  {
   "cell_type": "code",
   "execution_count": 25,
   "id": "41198269",
   "metadata": {},
   "outputs": [
    {
     "data": {
      "text/html": [
       "<div>\n",
       "<style scoped>\n",
       "    .dataframe tbody tr th:only-of-type {\n",
       "        vertical-align: middle;\n",
       "    }\n",
       "\n",
       "    .dataframe tbody tr th {\n",
       "        vertical-align: top;\n",
       "    }\n",
       "\n",
       "    .dataframe thead th {\n",
       "        text-align: right;\n",
       "    }\n",
       "</style>\n",
       "<table border=\"1\" class=\"dataframe\">\n",
       "  <thead>\n",
       "    <tr style=\"text-align: right;\">\n",
       "      <th></th>\n",
       "      <th>Checkouts</th>\n",
       "    </tr>\n",
       "    <tr>\n",
       "      <th>Title</th>\n",
       "      <th></th>\n",
       "    </tr>\n",
       "  </thead>\n",
       "  <tbody>\n",
       "    <tr>\n",
       "      <th>Headphones / Seattle Public Library.</th>\n",
       "      <td>19040</td>\n",
       "    </tr>\n",
       "    <tr>\n",
       "      <th>SPL HotSpot : connecting Seattle / [distributed by T-Mobile].</th>\n",
       "      <td>8110</td>\n",
       "    </tr>\n",
       "    <tr>\n",
       "      <th>Braiding Sweetgrass: Indigenous Wisdom, Scientific Knowledge and the Teachings of Plants (unabridged)</th>\n",
       "      <td>6198</td>\n",
       "    </tr>\n",
       "    <tr>\n",
       "      <th>The House of Broken Angels</th>\n",
       "      <td>5257</td>\n",
       "    </tr>\n",
       "    <tr>\n",
       "      <th>Cloud Cuckoo Land: A Novel</th>\n",
       "      <td>5132</td>\n",
       "    </tr>\n",
       "  </tbody>\n",
       "</table>\n",
       "</div>"
      ],
      "text/plain": [
       "                                                    Checkouts\n",
       "Title                                                        \n",
       "Headphones / Seattle Public Library.                    19040\n",
       "SPL HotSpot : connecting Seattle / [distributed...       8110\n",
       "Braiding Sweetgrass: Indigenous Wisdom, Scienti...       6198\n",
       "The House of Broken Angels                               5257\n",
       "Cloud Cuckoo Land: A Novel                               5132"
      ]
     },
     "execution_count": 25,
     "metadata": {},
     "output_type": "execute_result"
    }
   ],
   "source": [
    "#View the results\n",
    "popular_products_df = pd.DataFrame(popular_products)\n",
    "popular_products_df.sort_values(\"Checkouts\", ascending = False).head()"
   ]
  },
  {
   "cell_type": "code",
   "execution_count": 26,
   "id": "a0ce6101",
   "metadata": {},
   "outputs": [
    {
     "data": {
      "image/png": "[encoded data removed]",
      "text/plain": [
       "<Figure size 432x288 with 1 Axes>"
      ]
     },
     "metadata": {
      "needs_background": "light"
     },
     "output_type": "display_data"
    }
   ],
   "source": [
    "#Visualize the results\n",
    "products_plot = popular_products_df.sort_values(\"Checkouts\").tail(10)\n",
    "products_plot.plot(kind = \"barh\")\n",
    "plt.title(\"Top 10 Most Popular Products\")\n",
    "plt.ylabel(\"Products\")\n",
    "plt.gca().xaxis.set_major_formatter(ticker.StrMethodFormatter('{x:,.0f}'));"
   ]
  }
 ],
 "metadata": {
  "kernelspec": {
   "display_name": "Python 3 (ipykernel)",
   "language": "python",
   "name": "python3"
  },
  "language_info": {
   "codemirror_mode": {
    "name": "ipython",
    "version": 3
   },
   "file_extension": ".py",
   "mimetype": "text/x-python",
   "name": "python",
   "nbconvert_exporter": "python",
   "pygments_lexer": "ipython3",
   "version": "3.9.12"
  }
 },
 "nbformat": 4,
 "nbformat_minor": 5
}
